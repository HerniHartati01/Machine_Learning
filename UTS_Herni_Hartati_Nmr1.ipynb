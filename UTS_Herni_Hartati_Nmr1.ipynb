{
  "nbformat": 4,
  "nbformat_minor": 0,
  "metadata": {
    "colab": {
      "name": "UTS_Herni Hartati_Nmr1.ipynb",
      "provenance": [],
      "collapsed_sections": [],
      "mount_file_id": "1Kl5VAn2adexOYMk9uMlCeBOA1JKZJ-Ni",
      "authorship_tag": "ABX9TyPs9dB7zYKIjJ81Cnn2+6Tk",
      "include_colab_link": true
    },
    "kernelspec": {
      "name": "python3",
      "display_name": "Python 3"
    }
  },
  "cells": [
    {
      "cell_type": "markdown",
      "metadata": {
        "id": "view-in-github",
        "colab_type": "text"
      },
      "source": [
        "<a href=\"https://colab.research.google.com/github/HerniHartati01/Machine_Learning/blob/main/UTS_Herni_Hartati_Nmr1.ipynb\" target=\"_parent\"><img src=\"https://colab.research.google.com/assets/colab-badge.svg\" alt=\"Open In Colab\"/></a>"
      ]
    },
    {
      "cell_type": "code",
      "metadata": {
        "colab": {
          "base_uri": "https://localhost:8080/",
          "height": 419
        },
        "id": "SAtDOdIaT6gD",
        "outputId": "43909f16-20df-4389-d5d6-36f580346361"
      },
      "source": [
        "import pandas as pd\n",
        "import numpy as np\n",
        "path=\"/content/drive/My Drive/machine learning/dataset/catatanlokasi.csv\"\n",
        "dat=pd.read_csv(path)\n",
        "dat"
      ],
      "execution_count": 6,
      "outputs": [
        {
          "output_type": "execute_result",
          "data": {
            "text/html": [
              "<div>\n",
              "<style scoped>\n",
              "    .dataframe tbody tr th:only-of-type {\n",
              "        vertical-align: middle;\n",
              "    }\n",
              "\n",
              "    .dataframe tbody tr th {\n",
              "        vertical-align: top;\n",
              "    }\n",
              "\n",
              "    .dataframe thead th {\n",
              "        text-align: right;\n",
              "    }\n",
              "</style>\n",
              "<table border=\"1\" class=\"dataframe\">\n",
              "  <thead>\n",
              "    <tr style=\"text-align: right;\">\n",
              "      <th></th>\n",
              "      <th>id</th>\n",
              "      <th>tanggal</th>\n",
              "      <th>lokasi_dominan</th>\n",
              "    </tr>\n",
              "  </thead>\n",
              "  <tbody>\n",
              "    <tr>\n",
              "      <th>0</th>\n",
              "      <td>1</td>\n",
              "      <td>21/05/19</td>\n",
              "      <td>Jakarta Pusat</td>\n",
              "    </tr>\n",
              "    <tr>\n",
              "      <th>1</th>\n",
              "      <td>2</td>\n",
              "      <td>21/05/19</td>\n",
              "      <td>Kabupaten Bogor</td>\n",
              "    </tr>\n",
              "    <tr>\n",
              "      <th>2</th>\n",
              "      <td>3</td>\n",
              "      <td>21/05/19</td>\n",
              "      <td>Jakarta Pusat</td>\n",
              "    </tr>\n",
              "    <tr>\n",
              "      <th>3</th>\n",
              "      <td>4</td>\n",
              "      <td>21/05/19</td>\n",
              "      <td>Kota Tangerang</td>\n",
              "    </tr>\n",
              "    <tr>\n",
              "      <th>4</th>\n",
              "      <td>5</td>\n",
              "      <td>21/05/19</td>\n",
              "      <td>Kota Bogor</td>\n",
              "    </tr>\n",
              "    <tr>\n",
              "      <th>...</th>\n",
              "      <td>...</td>\n",
              "      <td>...</td>\n",
              "      <td>...</td>\n",
              "    </tr>\n",
              "    <tr>\n",
              "      <th>2595</th>\n",
              "      <td>96</td>\n",
              "      <td>15/06/19</td>\n",
              "      <td>Kota Bogor</td>\n",
              "    </tr>\n",
              "    <tr>\n",
              "      <th>2596</th>\n",
              "      <td>97</td>\n",
              "      <td>15/06/19</td>\n",
              "      <td>Kota Tangerang Selatan</td>\n",
              "    </tr>\n",
              "    <tr>\n",
              "      <th>2597</th>\n",
              "      <td>98</td>\n",
              "      <td>15/06/19</td>\n",
              "      <td>Jakarta Timur</td>\n",
              "    </tr>\n",
              "    <tr>\n",
              "      <th>2598</th>\n",
              "      <td>99</td>\n",
              "      <td>15/06/19</td>\n",
              "      <td>Jakarta Timur</td>\n",
              "    </tr>\n",
              "    <tr>\n",
              "      <th>2599</th>\n",
              "      <td>100</td>\n",
              "      <td>15/06/19</td>\n",
              "      <td>Jakarta Timur</td>\n",
              "    </tr>\n",
              "  </tbody>\n",
              "</table>\n",
              "<p>2600 rows × 3 columns</p>\n",
              "</div>"
            ],
            "text/plain": [
              "       id   tanggal          lokasi_dominan\n",
              "0       1  21/05/19           Jakarta Pusat\n",
              "1       2  21/05/19         Kabupaten Bogor\n",
              "2       3  21/05/19           Jakarta Pusat\n",
              "3       4  21/05/19          Kota Tangerang\n",
              "4       5  21/05/19              Kota Bogor\n",
              "...   ...       ...                     ...\n",
              "2595   96  15/06/19              Kota Bogor\n",
              "2596   97  15/06/19  Kota Tangerang Selatan\n",
              "2597   98  15/06/19           Jakarta Timur\n",
              "2598   99  15/06/19           Jakarta Timur\n",
              "2599  100  15/06/19           Jakarta Timur\n",
              "\n",
              "[2600 rows x 3 columns]"
            ]
          },
          "metadata": {
            "tags": []
          },
          "execution_count": 6
        }
      ]
    },
    {
      "cell_type": "code",
      "metadata": {
        "colab": {
          "base_uri": "https://localhost:8080/"
        },
        "id": "hBpmuuVjVS_m",
        "outputId": "7d48e3a2-36b2-4106-8998-9a73ce372b11"
      },
      "source": [
        "dat.dtypes"
      ],
      "execution_count": 7,
      "outputs": [
        {
          "output_type": "execute_result",
          "data": {
            "text/plain": [
              "id                 int64\n",
              "tanggal           object\n",
              "lokasi_dominan    object\n",
              "dtype: object"
            ]
          },
          "metadata": {
            "tags": []
          },
          "execution_count": 7
        }
      ]
    },
    {
      "cell_type": "code",
      "metadata": {
        "colab": {
          "base_uri": "https://localhost:8080/"
        },
        "id": "VCLCJH-ZVc7t",
        "outputId": "9de8f311-ab0e-45b9-9a64-8344dc261241"
      },
      "source": [
        "dat.shape"
      ],
      "execution_count": 8,
      "outputs": [
        {
          "output_type": "execute_result",
          "data": {
            "text/plain": [
              "(2600, 3)"
            ]
          },
          "metadata": {
            "tags": []
          },
          "execution_count": 8
        }
      ]
    },
    {
      "cell_type": "code",
      "metadata": {
        "colab": {
          "base_uri": "https://localhost:8080/"
        },
        "id": "esHayM3LVhTM",
        "outputId": "1789689a-b0b7-405e-e766-a304113d656d"
      },
      "source": [
        "dat.info()"
      ],
      "execution_count": 9,
      "outputs": [
        {
          "output_type": "stream",
          "text": [
            "<class 'pandas.core.frame.DataFrame'>\n",
            "RangeIndex: 2600 entries, 0 to 2599\n",
            "Data columns (total 3 columns):\n",
            " #   Column          Non-Null Count  Dtype \n",
            "---  ------          --------------  ----- \n",
            " 0   id              2600 non-null   int64 \n",
            " 1   tanggal         2600 non-null   object\n",
            " 2   lokasi_dominan  2600 non-null   object\n",
            "dtypes: int64(1), object(2)\n",
            "memory usage: 61.1+ KB\n"
          ],
          "name": "stdout"
        }
      ]
    },
    {
      "cell_type": "code",
      "metadata": {
        "id": "861hSZqUVogP"
      },
      "source": [
        "x=dat[['id','tanggal']]\n",
        "y=dat['lokasi_dominan']"
      ],
      "execution_count": 10,
      "outputs": []
    },
    {
      "cell_type": "code",
      "metadata": {
        "colab": {
          "base_uri": "https://localhost:8080/",
          "height": 419
        },
        "id": "36w6vglIX57D",
        "outputId": "9b54b84d-287e-4aaf-e66d-11121040fe55"
      },
      "source": [
        "x"
      ],
      "execution_count": 11,
      "outputs": [
        {
          "output_type": "execute_result",
          "data": {
            "text/html": [
              "<div>\n",
              "<style scoped>\n",
              "    .dataframe tbody tr th:only-of-type {\n",
              "        vertical-align: middle;\n",
              "    }\n",
              "\n",
              "    .dataframe tbody tr th {\n",
              "        vertical-align: top;\n",
              "    }\n",
              "\n",
              "    .dataframe thead th {\n",
              "        text-align: right;\n",
              "    }\n",
              "</style>\n",
              "<table border=\"1\" class=\"dataframe\">\n",
              "  <thead>\n",
              "    <tr style=\"text-align: right;\">\n",
              "      <th></th>\n",
              "      <th>id</th>\n",
              "      <th>tanggal</th>\n",
              "    </tr>\n",
              "  </thead>\n",
              "  <tbody>\n",
              "    <tr>\n",
              "      <th>0</th>\n",
              "      <td>1</td>\n",
              "      <td>21/05/19</td>\n",
              "    </tr>\n",
              "    <tr>\n",
              "      <th>1</th>\n",
              "      <td>2</td>\n",
              "      <td>21/05/19</td>\n",
              "    </tr>\n",
              "    <tr>\n",
              "      <th>2</th>\n",
              "      <td>3</td>\n",
              "      <td>21/05/19</td>\n",
              "    </tr>\n",
              "    <tr>\n",
              "      <th>3</th>\n",
              "      <td>4</td>\n",
              "      <td>21/05/19</td>\n",
              "    </tr>\n",
              "    <tr>\n",
              "      <th>4</th>\n",
              "      <td>5</td>\n",
              "      <td>21/05/19</td>\n",
              "    </tr>\n",
              "    <tr>\n",
              "      <th>...</th>\n",
              "      <td>...</td>\n",
              "      <td>...</td>\n",
              "    </tr>\n",
              "    <tr>\n",
              "      <th>2595</th>\n",
              "      <td>96</td>\n",
              "      <td>15/06/19</td>\n",
              "    </tr>\n",
              "    <tr>\n",
              "      <th>2596</th>\n",
              "      <td>97</td>\n",
              "      <td>15/06/19</td>\n",
              "    </tr>\n",
              "    <tr>\n",
              "      <th>2597</th>\n",
              "      <td>98</td>\n",
              "      <td>15/06/19</td>\n",
              "    </tr>\n",
              "    <tr>\n",
              "      <th>2598</th>\n",
              "      <td>99</td>\n",
              "      <td>15/06/19</td>\n",
              "    </tr>\n",
              "    <tr>\n",
              "      <th>2599</th>\n",
              "      <td>100</td>\n",
              "      <td>15/06/19</td>\n",
              "    </tr>\n",
              "  </tbody>\n",
              "</table>\n",
              "<p>2600 rows × 2 columns</p>\n",
              "</div>"
            ],
            "text/plain": [
              "       id   tanggal\n",
              "0       1  21/05/19\n",
              "1       2  21/05/19\n",
              "2       3  21/05/19\n",
              "3       4  21/05/19\n",
              "4       5  21/05/19\n",
              "...   ...       ...\n",
              "2595   96  15/06/19\n",
              "2596   97  15/06/19\n",
              "2597   98  15/06/19\n",
              "2598   99  15/06/19\n",
              "2599  100  15/06/19\n",
              "\n",
              "[2600 rows x 2 columns]"
            ]
          },
          "metadata": {
            "tags": []
          },
          "execution_count": 11
        }
      ]
    },
    {
      "cell_type": "code",
      "metadata": {
        "colab": {
          "base_uri": "https://localhost:8080/"
        },
        "id": "h4kud-FWX8bs",
        "outputId": "460af3f8-65b5-487f-a084-fe9c43e85b72"
      },
      "source": [
        "y"
      ],
      "execution_count": 12,
      "outputs": [
        {
          "output_type": "execute_result",
          "data": {
            "text/plain": [
              "0                Jakarta Pusat\n",
              "1              Kabupaten Bogor\n",
              "2                Jakarta Pusat\n",
              "3               Kota Tangerang\n",
              "4                   Kota Bogor\n",
              "                 ...          \n",
              "2595                Kota Bogor\n",
              "2596    Kota Tangerang Selatan\n",
              "2597             Jakarta Timur\n",
              "2598             Jakarta Timur\n",
              "2599             Jakarta Timur\n",
              "Name: lokasi_dominan, Length: 2600, dtype: object"
            ]
          },
          "metadata": {
            "tags": []
          },
          "execution_count": 12
        }
      ]
    },
    {
      "cell_type": "code",
      "metadata": {
        "id": "M2VJ1iTGYAgw"
      },
      "source": [
        "from sklearn.model_selection import train_test_split"
      ],
      "execution_count": 13,
      "outputs": []
    },
    {
      "cell_type": "code",
      "metadata": {
        "id": "kUOBe4dpYKZF"
      },
      "source": [
        "x_train, x_test, y_train, y_test=train_test_split(x,y,test_size=0.3)"
      ],
      "execution_count": 14,
      "outputs": []
    },
    {
      "cell_type": "code",
      "metadata": {
        "colab": {
          "base_uri": "https://localhost:8080/",
          "height": 419
        },
        "id": "u9-Rv4_-YTIe",
        "outputId": "3a6cc81d-d8bd-4f40-85f4-b208ed856ad6"
      },
      "source": [
        "x_train"
      ],
      "execution_count": 15,
      "outputs": [
        {
          "output_type": "execute_result",
          "data": {
            "text/html": [
              "<div>\n",
              "<style scoped>\n",
              "    .dataframe tbody tr th:only-of-type {\n",
              "        vertical-align: middle;\n",
              "    }\n",
              "\n",
              "    .dataframe tbody tr th {\n",
              "        vertical-align: top;\n",
              "    }\n",
              "\n",
              "    .dataframe thead th {\n",
              "        text-align: right;\n",
              "    }\n",
              "</style>\n",
              "<table border=\"1\" class=\"dataframe\">\n",
              "  <thead>\n",
              "    <tr style=\"text-align: right;\">\n",
              "      <th></th>\n",
              "      <th>id</th>\n",
              "      <th>tanggal</th>\n",
              "    </tr>\n",
              "  </thead>\n",
              "  <tbody>\n",
              "    <tr>\n",
              "      <th>100</th>\n",
              "      <td>1</td>\n",
              "      <td>22/05/19</td>\n",
              "    </tr>\n",
              "    <tr>\n",
              "      <th>2369</th>\n",
              "      <td>70</td>\n",
              "      <td>13/06/19</td>\n",
              "    </tr>\n",
              "    <tr>\n",
              "      <th>1719</th>\n",
              "      <td>20</td>\n",
              "      <td>07/06/19</td>\n",
              "    </tr>\n",
              "    <tr>\n",
              "      <th>29</th>\n",
              "      <td>30</td>\n",
              "      <td>21/05/19</td>\n",
              "    </tr>\n",
              "    <tr>\n",
              "      <th>846</th>\n",
              "      <td>47</td>\n",
              "      <td>29/05/19</td>\n",
              "    </tr>\n",
              "    <tr>\n",
              "      <th>...</th>\n",
              "      <td>...</td>\n",
              "      <td>...</td>\n",
              "    </tr>\n",
              "    <tr>\n",
              "      <th>2346</th>\n",
              "      <td>47</td>\n",
              "      <td>13/06/19</td>\n",
              "    </tr>\n",
              "    <tr>\n",
              "      <th>1438</th>\n",
              "      <td>39</td>\n",
              "      <td>04/06/19</td>\n",
              "    </tr>\n",
              "    <tr>\n",
              "      <th>162</th>\n",
              "      <td>63</td>\n",
              "      <td>22/05/19</td>\n",
              "    </tr>\n",
              "    <tr>\n",
              "      <th>2178</th>\n",
              "      <td>79</td>\n",
              "      <td>11/06/19</td>\n",
              "    </tr>\n",
              "    <tr>\n",
              "      <th>2358</th>\n",
              "      <td>59</td>\n",
              "      <td>13/06/19</td>\n",
              "    </tr>\n",
              "  </tbody>\n",
              "</table>\n",
              "<p>1820 rows × 2 columns</p>\n",
              "</div>"
            ],
            "text/plain": [
              "      id   tanggal\n",
              "100    1  22/05/19\n",
              "2369  70  13/06/19\n",
              "1719  20  07/06/19\n",
              "29    30  21/05/19\n",
              "846   47  29/05/19\n",
              "...   ..       ...\n",
              "2346  47  13/06/19\n",
              "1438  39  04/06/19\n",
              "162   63  22/05/19\n",
              "2178  79  11/06/19\n",
              "2358  59  13/06/19\n",
              "\n",
              "[1820 rows x 2 columns]"
            ]
          },
          "metadata": {
            "tags": []
          },
          "execution_count": 15
        }
      ]
    },
    {
      "cell_type": "code",
      "metadata": {
        "colab": {
          "base_uri": "https://localhost:8080/",
          "height": 419
        },
        "id": "pGMnREgnYYEL",
        "outputId": "def1ae76-827c-4186-900e-7ed846cf2e11"
      },
      "source": [
        "x_test"
      ],
      "execution_count": 16,
      "outputs": [
        {
          "output_type": "execute_result",
          "data": {
            "text/html": [
              "<div>\n",
              "<style scoped>\n",
              "    .dataframe tbody tr th:only-of-type {\n",
              "        vertical-align: middle;\n",
              "    }\n",
              "\n",
              "    .dataframe tbody tr th {\n",
              "        vertical-align: top;\n",
              "    }\n",
              "\n",
              "    .dataframe thead th {\n",
              "        text-align: right;\n",
              "    }\n",
              "</style>\n",
              "<table border=\"1\" class=\"dataframe\">\n",
              "  <thead>\n",
              "    <tr style=\"text-align: right;\">\n",
              "      <th></th>\n",
              "      <th>id</th>\n",
              "      <th>tanggal</th>\n",
              "    </tr>\n",
              "  </thead>\n",
              "  <tbody>\n",
              "    <tr>\n",
              "      <th>2327</th>\n",
              "      <td>28</td>\n",
              "      <td>13/06/19</td>\n",
              "    </tr>\n",
              "    <tr>\n",
              "      <th>1722</th>\n",
              "      <td>23</td>\n",
              "      <td>07/06/19</td>\n",
              "    </tr>\n",
              "    <tr>\n",
              "      <th>592</th>\n",
              "      <td>93</td>\n",
              "      <td>26/05/19</td>\n",
              "    </tr>\n",
              "    <tr>\n",
              "      <th>2436</th>\n",
              "      <td>37</td>\n",
              "      <td>14/06/19</td>\n",
              "    </tr>\n",
              "    <tr>\n",
              "      <th>1025</th>\n",
              "      <td>26</td>\n",
              "      <td>31/05/19</td>\n",
              "    </tr>\n",
              "    <tr>\n",
              "      <th>...</th>\n",
              "      <td>...</td>\n",
              "      <td>...</td>\n",
              "    </tr>\n",
              "    <tr>\n",
              "      <th>259</th>\n",
              "      <td>60</td>\n",
              "      <td>23/05/19</td>\n",
              "    </tr>\n",
              "    <tr>\n",
              "      <th>662</th>\n",
              "      <td>63</td>\n",
              "      <td>27/05/19</td>\n",
              "    </tr>\n",
              "    <tr>\n",
              "      <th>1626</th>\n",
              "      <td>27</td>\n",
              "      <td>06/06/19</td>\n",
              "    </tr>\n",
              "    <tr>\n",
              "      <th>101</th>\n",
              "      <td>2</td>\n",
              "      <td>22/05/19</td>\n",
              "    </tr>\n",
              "    <tr>\n",
              "      <th>1214</th>\n",
              "      <td>15</td>\n",
              "      <td>02/06/19</td>\n",
              "    </tr>\n",
              "  </tbody>\n",
              "</table>\n",
              "<p>780 rows × 2 columns</p>\n",
              "</div>"
            ],
            "text/plain": [
              "      id   tanggal\n",
              "2327  28  13/06/19\n",
              "1722  23  07/06/19\n",
              "592   93  26/05/19\n",
              "2436  37  14/06/19\n",
              "1025  26  31/05/19\n",
              "...   ..       ...\n",
              "259   60  23/05/19\n",
              "662   63  27/05/19\n",
              "1626  27  06/06/19\n",
              "101    2  22/05/19\n",
              "1214  15  02/06/19\n",
              "\n",
              "[780 rows x 2 columns]"
            ]
          },
          "metadata": {
            "tags": []
          },
          "execution_count": 16
        }
      ]
    },
    {
      "cell_type": "code",
      "metadata": {
        "colab": {
          "base_uri": "https://localhost:8080/"
        },
        "id": "hqkzYuz4Yg6P",
        "outputId": "c564e215-e167-455d-8c03-77e673b10cfb"
      },
      "source": [
        "y_train"
      ],
      "execution_count": 17,
      "outputs": [
        {
          "output_type": "execute_result",
          "data": {
            "text/plain": [
              "100                 Jakarta Pusat\n",
              "2369                Jakarta Barat\n",
              "1719    Kabupaten Lampung Selatan\n",
              "29                     Kota Depok\n",
              "846                 Jakarta Utara\n",
              "                  ...            \n",
              "2346                  Kota Bekasi\n",
              "1438                Kota Semarang\n",
              "162               Kabupaten Bogor\n",
              "2178                  Kota Bekasi\n",
              "2358              Kabupaten Bogor\n",
              "Name: lokasi_dominan, Length: 1820, dtype: object"
            ]
          },
          "metadata": {
            "tags": []
          },
          "execution_count": 17
        }
      ]
    },
    {
      "cell_type": "code",
      "metadata": {
        "colab": {
          "base_uri": "https://localhost:8080/"
        },
        "id": "W8JiT8DUYk8D",
        "outputId": "3f387939-e671-412a-dde5-52b42d7487a7"
      },
      "source": [
        "y_test"
      ],
      "execution_count": 18,
      "outputs": [
        {
          "output_type": "execute_result",
          "data": {
            "text/plain": [
              "2327        Kota Tangerang\n",
              "1722    Kabupaten Wonogiri\n",
              "592             Kota Depok\n",
              "2436            Kota Depok\n",
              "1025      Kabupaten Sleman\n",
              "               ...        \n",
              "259          Jakarta Pusat\n",
              "662          Jakarta Barat\n",
              "1626           Kota Padang\n",
              "101        Kabupaten Bogor\n",
              "1214          Kota Bandung\n",
              "Name: lokasi_dominan, Length: 780, dtype: object"
            ]
          },
          "metadata": {
            "tags": []
          },
          "execution_count": 18
        }
      ]
    },
    {
      "cell_type": "code",
      "metadata": {
        "colab": {
          "base_uri": "https://localhost:8080/"
        },
        "id": "-y-t2So6Yr7y",
        "outputId": "7d515135-4725-4279-8f62-a4c22e317641"
      },
      "source": [
        "len(x_train)"
      ],
      "execution_count": 19,
      "outputs": [
        {
          "output_type": "execute_result",
          "data": {
            "text/plain": [
              "1820"
            ]
          },
          "metadata": {
            "tags": []
          },
          "execution_count": 19
        }
      ]
    },
    {
      "cell_type": "code",
      "metadata": {
        "colab": {
          "base_uri": "https://localhost:8080/"
        },
        "id": "6wXLSuD8Ywri",
        "outputId": "58338696-3bbd-4535-ce90-76330161be27"
      },
      "source": [
        "len(x_test)"
      ],
      "execution_count": 20,
      "outputs": [
        {
          "output_type": "execute_result",
          "data": {
            "text/plain": [
              "780"
            ]
          },
          "metadata": {
            "tags": []
          },
          "execution_count": 20
        }
      ]
    },
    {
      "cell_type": "code",
      "metadata": {
        "colab": {
          "base_uri": "https://localhost:8080/"
        },
        "id": "vsvuMQkWY0XD",
        "outputId": "592303f0-7325-4f40-eb71-5e04f4ce468b"
      },
      "source": [
        "len(y_train)"
      ],
      "execution_count": 21,
      "outputs": [
        {
          "output_type": "execute_result",
          "data": {
            "text/plain": [
              "1820"
            ]
          },
          "metadata": {
            "tags": []
          },
          "execution_count": 21
        }
      ]
    },
    {
      "cell_type": "code",
      "metadata": {
        "colab": {
          "base_uri": "https://localhost:8080/"
        },
        "id": "sQXJjxDyY5sQ",
        "outputId": "5088f880-65a0-4ede-c386-a195afa33e77"
      },
      "source": [
        "len(y_test)"
      ],
      "execution_count": 22,
      "outputs": [
        {
          "output_type": "execute_result",
          "data": {
            "text/plain": [
              "780"
            ]
          },
          "metadata": {
            "tags": []
          },
          "execution_count": 22
        }
      ]
    },
    {
      "cell_type": "code",
      "metadata": {
        "id": "fqG7Z4mdY-i-"
      },
      "source": [
        "x_train, x_test, y_train, y_test=train_test_split(x,y,test_size=0.2)"
      ],
      "execution_count": 23,
      "outputs": []
    },
    {
      "cell_type": "code",
      "metadata": {
        "colab": {
          "base_uri": "https://localhost:8080/",
          "height": 419
        },
        "id": "makMtJPlZDP7",
        "outputId": "4caa25a0-2fac-4165-c7a6-c14f4ac4317a"
      },
      "source": [
        "x_train"
      ],
      "execution_count": 24,
      "outputs": [
        {
          "output_type": "execute_result",
          "data": {
            "text/html": [
              "<div>\n",
              "<style scoped>\n",
              "    .dataframe tbody tr th:only-of-type {\n",
              "        vertical-align: middle;\n",
              "    }\n",
              "\n",
              "    .dataframe tbody tr th {\n",
              "        vertical-align: top;\n",
              "    }\n",
              "\n",
              "    .dataframe thead th {\n",
              "        text-align: right;\n",
              "    }\n",
              "</style>\n",
              "<table border=\"1\" class=\"dataframe\">\n",
              "  <thead>\n",
              "    <tr style=\"text-align: right;\">\n",
              "      <th></th>\n",
              "      <th>id</th>\n",
              "      <th>tanggal</th>\n",
              "    </tr>\n",
              "  </thead>\n",
              "  <tbody>\n",
              "    <tr>\n",
              "      <th>318</th>\n",
              "      <td>19</td>\n",
              "      <td>24/05/19</td>\n",
              "    </tr>\n",
              "    <tr>\n",
              "      <th>1879</th>\n",
              "      <td>80</td>\n",
              "      <td>08/06/19</td>\n",
              "    </tr>\n",
              "    <tr>\n",
              "      <th>111</th>\n",
              "      <td>12</td>\n",
              "      <td>22/05/19</td>\n",
              "    </tr>\n",
              "    <tr>\n",
              "      <th>19</th>\n",
              "      <td>20</td>\n",
              "      <td>21/05/19</td>\n",
              "    </tr>\n",
              "    <tr>\n",
              "      <th>169</th>\n",
              "      <td>70</td>\n",
              "      <td>22/05/19</td>\n",
              "    </tr>\n",
              "    <tr>\n",
              "      <th>...</th>\n",
              "      <td>...</td>\n",
              "      <td>...</td>\n",
              "    </tr>\n",
              "    <tr>\n",
              "      <th>2408</th>\n",
              "      <td>9</td>\n",
              "      <td>14/06/19</td>\n",
              "    </tr>\n",
              "    <tr>\n",
              "      <th>355</th>\n",
              "      <td>56</td>\n",
              "      <td>24/05/19</td>\n",
              "    </tr>\n",
              "    <tr>\n",
              "      <th>806</th>\n",
              "      <td>7</td>\n",
              "      <td>29/05/19</td>\n",
              "    </tr>\n",
              "    <tr>\n",
              "      <th>2431</th>\n",
              "      <td>32</td>\n",
              "      <td>14/06/19</td>\n",
              "    </tr>\n",
              "    <tr>\n",
              "      <th>1826</th>\n",
              "      <td>27</td>\n",
              "      <td>08/06/19</td>\n",
              "    </tr>\n",
              "  </tbody>\n",
              "</table>\n",
              "<p>2080 rows × 2 columns</p>\n",
              "</div>"
            ],
            "text/plain": [
              "      id   tanggal\n",
              "318   19  24/05/19\n",
              "1879  80  08/06/19\n",
              "111   12  22/05/19\n",
              "19    20  21/05/19\n",
              "169   70  22/05/19\n",
              "...   ..       ...\n",
              "2408   9  14/06/19\n",
              "355   56  24/05/19\n",
              "806    7  29/05/19\n",
              "2431  32  14/06/19\n",
              "1826  27  08/06/19\n",
              "\n",
              "[2080 rows x 2 columns]"
            ]
          },
          "metadata": {
            "tags": []
          },
          "execution_count": 24
        }
      ]
    },
    {
      "cell_type": "code",
      "metadata": {
        "colab": {
          "base_uri": "https://localhost:8080/",
          "height": 419
        },
        "id": "bvWPaXzgZIlV",
        "outputId": "3ea79462-02cb-4a58-bef1-6c3bc51b3bcc"
      },
      "source": [
        "x_test"
      ],
      "execution_count": 25,
      "outputs": [
        {
          "output_type": "execute_result",
          "data": {
            "text/html": [
              "<div>\n",
              "<style scoped>\n",
              "    .dataframe tbody tr th:only-of-type {\n",
              "        vertical-align: middle;\n",
              "    }\n",
              "\n",
              "    .dataframe tbody tr th {\n",
              "        vertical-align: top;\n",
              "    }\n",
              "\n",
              "    .dataframe thead th {\n",
              "        text-align: right;\n",
              "    }\n",
              "</style>\n",
              "<table border=\"1\" class=\"dataframe\">\n",
              "  <thead>\n",
              "    <tr style=\"text-align: right;\">\n",
              "      <th></th>\n",
              "      <th>id</th>\n",
              "      <th>tanggal</th>\n",
              "    </tr>\n",
              "  </thead>\n",
              "  <tbody>\n",
              "    <tr>\n",
              "      <th>397</th>\n",
              "      <td>98</td>\n",
              "      <td>24/05/19</td>\n",
              "    </tr>\n",
              "    <tr>\n",
              "      <th>16</th>\n",
              "      <td>17</td>\n",
              "      <td>21/05/19</td>\n",
              "    </tr>\n",
              "    <tr>\n",
              "      <th>92</th>\n",
              "      <td>93</td>\n",
              "      <td>21/05/19</td>\n",
              "    </tr>\n",
              "    <tr>\n",
              "      <th>1143</th>\n",
              "      <td>44</td>\n",
              "      <td>01/06/19</td>\n",
              "    </tr>\n",
              "    <tr>\n",
              "      <th>2533</th>\n",
              "      <td>34</td>\n",
              "      <td>15/06/19</td>\n",
              "    </tr>\n",
              "    <tr>\n",
              "      <th>...</th>\n",
              "      <td>...</td>\n",
              "      <td>...</td>\n",
              "    </tr>\n",
              "    <tr>\n",
              "      <th>1610</th>\n",
              "      <td>11</td>\n",
              "      <td>06/06/19</td>\n",
              "    </tr>\n",
              "    <tr>\n",
              "      <th>1553</th>\n",
              "      <td>54</td>\n",
              "      <td>05/06/19</td>\n",
              "    </tr>\n",
              "    <tr>\n",
              "      <th>2449</th>\n",
              "      <td>50</td>\n",
              "      <td>14/06/19</td>\n",
              "    </tr>\n",
              "    <tr>\n",
              "      <th>2339</th>\n",
              "      <td>40</td>\n",
              "      <td>13/06/19</td>\n",
              "    </tr>\n",
              "    <tr>\n",
              "      <th>118</th>\n",
              "      <td>19</td>\n",
              "      <td>22/05/19</td>\n",
              "    </tr>\n",
              "  </tbody>\n",
              "</table>\n",
              "<p>520 rows × 2 columns</p>\n",
              "</div>"
            ],
            "text/plain": [
              "      id   tanggal\n",
              "397   98  24/05/19\n",
              "16    17  21/05/19\n",
              "92    93  21/05/19\n",
              "1143  44  01/06/19\n",
              "2533  34  15/06/19\n",
              "...   ..       ...\n",
              "1610  11  06/06/19\n",
              "1553  54  05/06/19\n",
              "2449  50  14/06/19\n",
              "2339  40  13/06/19\n",
              "118   19  22/05/19\n",
              "\n",
              "[520 rows x 2 columns]"
            ]
          },
          "metadata": {
            "tags": []
          },
          "execution_count": 25
        }
      ]
    },
    {
      "cell_type": "code",
      "metadata": {
        "colab": {
          "base_uri": "https://localhost:8080/"
        },
        "id": "jbnRGclOZLw9",
        "outputId": "60775dc9-1998-4ef5-875f-6831a40633b4"
      },
      "source": [
        "y_train"
      ],
      "execution_count": 26,
      "outputs": [
        {
          "output_type": "execute_result",
          "data": {
            "text/plain": [
              "318     Kabupaten Tangerang\n",
              "1879    Kabupaten Tangerang\n",
              "111          Kota Tangerang\n",
              "19               Kota Bogor\n",
              "169         Jakarta Selatan\n",
              "               ...         \n",
              "2408             Kota Bogor\n",
              "355         Kabupaten Bogor\n",
              "806              Kota Depok\n",
              "2431            Kota Bekasi\n",
              "1826            Kota Padang\n",
              "Name: lokasi_dominan, Length: 2080, dtype: object"
            ]
          },
          "metadata": {
            "tags": []
          },
          "execution_count": 26
        }
      ]
    },
    {
      "cell_type": "code",
      "metadata": {
        "colab": {
          "base_uri": "https://localhost:8080/"
        },
        "id": "z252mBTHZO8r",
        "outputId": "fa1fd088-abb8-49d5-b1a7-688170910197"
      },
      "source": [
        "y_test"
      ],
      "execution_count": 27,
      "outputs": [
        {
          "output_type": "execute_result",
          "data": {
            "text/plain": [
              "397                 Jakarta Timur\n",
              "16                 Kota Tangerang\n",
              "92                  Jakarta Barat\n",
              "1143             Kabupaten Sleman\n",
              "2533             Kabupaten Bekasi\n",
              "                  ...            \n",
              "1610             Kabupaten Sleman\n",
              "1553    Kabupaten Lampung Selatan\n",
              "2449                Jakarta Barat\n",
              "2339              Kabupaten Bogor\n",
              "118           Kabupaten Tangerang\n",
              "Name: lokasi_dominan, Length: 520, dtype: object"
            ]
          },
          "metadata": {
            "tags": []
          },
          "execution_count": 27
        }
      ]
    },
    {
      "cell_type": "code",
      "metadata": {
        "colab": {
          "base_uri": "https://localhost:8080/"
        },
        "id": "zDtOzfj-ZSUu",
        "outputId": "f2cbf06b-60c3-4e51-fdec-cad99f6c638b"
      },
      "source": [
        "len(x_train)"
      ],
      "execution_count": 28,
      "outputs": [
        {
          "output_type": "execute_result",
          "data": {
            "text/plain": [
              "2080"
            ]
          },
          "metadata": {
            "tags": []
          },
          "execution_count": 28
        }
      ]
    },
    {
      "cell_type": "code",
      "metadata": {
        "colab": {
          "base_uri": "https://localhost:8080/"
        },
        "id": "sDxSdHoTZWzl",
        "outputId": "4494bb12-9a47-47b3-89da-447eeffa1a10"
      },
      "source": [
        "len(x_test)"
      ],
      "execution_count": 29,
      "outputs": [
        {
          "output_type": "execute_result",
          "data": {
            "text/plain": [
              "520"
            ]
          },
          "metadata": {
            "tags": []
          },
          "execution_count": 29
        }
      ]
    },
    {
      "cell_type": "code",
      "metadata": {
        "colab": {
          "base_uri": "https://localhost:8080/"
        },
        "id": "ieyF61GaZaQ2",
        "outputId": "7033451e-157a-4ed6-aa25-5bc54c057633"
      },
      "source": [
        "len(y_train)"
      ],
      "execution_count": 30,
      "outputs": [
        {
          "output_type": "execute_result",
          "data": {
            "text/plain": [
              "2080"
            ]
          },
          "metadata": {
            "tags": []
          },
          "execution_count": 30
        }
      ]
    },
    {
      "cell_type": "code",
      "metadata": {
        "colab": {
          "base_uri": "https://localhost:8080/"
        },
        "id": "lCF7_KJYZeXW",
        "outputId": "a71ef8bb-f6f4-4f57-f689-77df83c83ed3"
      },
      "source": [
        "len(y_test)"
      ],
      "execution_count": 31,
      "outputs": [
        {
          "output_type": "execute_result",
          "data": {
            "text/plain": [
              "520"
            ]
          },
          "metadata": {
            "tags": []
          },
          "execution_count": 31
        }
      ]
    }
  ]
}