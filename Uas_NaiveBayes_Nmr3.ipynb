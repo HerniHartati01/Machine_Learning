{
  "nbformat": 4,
  "nbformat_minor": 0,
  "metadata": {
    "colab": {
      "name": "Uas_NaiveBayes_Nmr3.ipynb",
      "provenance": [],
      "authorship_tag": "ABX9TyMM+SUsCJzFq9H4lbH+JC68",
      "include_colab_link": true
    },
    "kernelspec": {
      "name": "python3",
      "display_name": "Python 3"
    }
  },
  "cells": [
    {
      "cell_type": "markdown",
      "metadata": {
        "id": "view-in-github",
        "colab_type": "text"
      },
      "source": [
        "<a href=\"https://colab.research.google.com/github/HerniHartati01/Machine_Learning/blob/main/Uas_NaiveBayes_Nmr3.ipynb\" target=\"_parent\"><img src=\"https://colab.research.google.com/assets/colab-badge.svg\" alt=\"Open In Colab\"/></a>"
      ]
    },
    {
      "cell_type": "code",
      "metadata": {
        "id": "-EIlRF08PVun"
      },
      "source": [
        "#Dataset\r\n",
        "Jenis_Kelamin=['Laki-Laki', 'Laki-Laki','Perempuan','Perempuan', 'Laki-Laki', 'Laki-Laki','Perempuan','Perempuan','Laki-Laki','Prempuan']\r\n",
        "Biaya=['murah','murah','murah','murah','murah','standar','standar','mahal','mahal','mahal']\r\n",
        "level=['rendah','sedang','sedang','rendah','sedang','sedang','sedang','tinggi','sedang','tinggi']\r\n",
        "transportasi=['bus','bus','kereta api','bus','bus','kereta api','kereta api','mobil','mobil','mobil']\r\n",
        "\r\n",
        "\r\n",
        "tujuan=['No','Yes','Yes','No','Yes','No','Yes','Yes','No','No']"
      ],
      "execution_count": 1,
      "outputs": []
    },
    {
      "cell_type": "code",
      "metadata": {
        "colab": {
          "base_uri": "https://localhost:8080/"
        },
        "id": "q_w1OfnjRpoh",
        "outputId": "fc09e8d6-7285-4db4-ee50-3400a9ccc520"
      },
      "source": [
        "#Import LabelEncoder\r\n",
        "from sklearn import preprocessing\r\n",
        "#creating labelEncoder\r\n",
        "le = preprocessing.LabelEncoder()\r\n",
        "#Convert label string ke numbers\r\n",
        "Jk_encoded=le.fit_transform(Jenis_Kelamin)\r\n",
        "print (Jk_encoded)"
      ],
      "execution_count": 3,
      "outputs": [
        {
          "output_type": "stream",
          "text": [
            "[0 0 1 1 0 0 1 1 0 2]\n"
          ],
          "name": "stdout"
        }
      ]
    },
    {
      "cell_type": "code",
      "metadata": {
        "colab": {
          "base_uri": "https://localhost:8080/"
        },
        "id": "bLTP9ke1R-IB",
        "outputId": "969b7b78-e1a4-4a7f-bf1f-fa35b4865657"
      },
      "source": [
        "#Import LabelEncoder\r\n",
        "from sklearn import preprocessing\r\n",
        "#creating labelEncoder\r\n",
        "le = preprocessing.LabelEncoder()\r\n",
        "#Convert label string ke numbers\r\n",
        "biaya_encoded=le.fit_transform(Biaya)\r\n",
        "print (biaya_encoded)"
      ],
      "execution_count": 4,
      "outputs": [
        {
          "output_type": "stream",
          "text": [
            "[1 1 1 1 1 2 2 0 0 0]\n"
          ],
          "name": "stdout"
        }
      ]
    },
    {
      "cell_type": "code",
      "metadata": {
        "colab": {
          "base_uri": "https://localhost:8080/"
        },
        "id": "RsilBipgSNCN",
        "outputId": "b00a1433-3880-4d8b-87aa-5b0c1cf127ee"
      },
      "source": [
        "#Import LabelEncoder\r\n",
        "from sklearn import preprocessing\r\n",
        "#creating labelEncoder\r\n",
        "le = preprocessing.LabelEncoder()\r\n",
        "#Convert label string ke numbers\r\n",
        "level_encoded=le.fit_transform(level)\r\n",
        "print (level_encoded)"
      ],
      "execution_count": 5,
      "outputs": [
        {
          "output_type": "stream",
          "text": [
            "[0 1 1 0 1 1 1 2 1 2]\n"
          ],
          "name": "stdout"
        }
      ]
    },
    {
      "cell_type": "code",
      "metadata": {
        "colab": {
          "base_uri": "https://localhost:8080/"
        },
        "id": "9A5PsSodSYTl",
        "outputId": "610a4e8d-c306-42af-df75-a4bbc790447f"
      },
      "source": [
        "#Import LabelEncoder\r\n",
        "from sklearn import preprocessing\r\n",
        "#creating labelEncoder\r\n",
        "label = preprocessing.LabelEncoder()\r\n",
        "#Convert label string ke numbers\r\n",
        "transportasi_encoded=label.fit_transform(transportasi)\r\n",
        "print (transportasi_encoded) \r\n",
        "\r\n",
        "tujuan_encoded=label.fit_transform(tujuan)\r\n",
        "print (tujuan_encoded) "
      ],
      "execution_count": 10,
      "outputs": [
        {
          "output_type": "stream",
          "text": [
            "[0 0 1 0 0 1 1 2 2 2]\n",
            "[0 1 1 0 1 0 1 1 0 0]\n"
          ],
          "name": "stdout"
        }
      ]
    },
    {
      "cell_type": "code",
      "metadata": {
        "colab": {
          "base_uri": "https://localhost:8080/"
        },
        "id": "j6Tu9yVMS441",
        "outputId": "e923ddc6-0c9e-4b8d-b012-a2fae1b3b211"
      },
      "source": [
        "#Combining fitur-fitur yang ada\r\n",
        "features=zip(Jk_encoded,biaya_encoded,level_encoded,transportasi_encoded)\r\n",
        "features=list(features)\r\n",
        "print (tuple(features))"
      ],
      "execution_count": 12,
      "outputs": [
        {
          "output_type": "stream",
          "text": [
            "((0, 1, 0, 0), (0, 1, 1, 0), (1, 1, 1, 1), (1, 1, 0, 0), (0, 1, 1, 0), (0, 2, 1, 1), (1, 2, 1, 1), (1, 0, 2, 2), (0, 0, 1, 2), (2, 0, 2, 2))\n"
          ],
          "name": "stdout"
        }
      ]
    },
    {
      "cell_type": "code",
      "metadata": {
        "colab": {
          "base_uri": "https://localhost:8080/"
        },
        "id": "_Uzd1q-0UCqT",
        "outputId": "00c1ff9c-117d-4d87-a5a8-367a6b4316fe"
      },
      "source": [
        "#Import Gaussian Naive Bayes model\r\n",
        "from sklearn.naive_bayes import GaussianNB\r\n",
        "\r\n",
        "#Panggil Gaussian Classifier\r\n",
        "model = GaussianNB()\r\n",
        "\r\n",
        "#Train model untuk data training\r\n",
        "model.fit(features,tujuan)\r\n",
        "#Model.fit(features,label.reshape(-1,1))\r\n",
        "\r\n",
        "#prediksi dari output\r\n",
        "predicted = model.predict([[1,2,0,0]]) #1:perempuan 2:standar 0:rendah 0:bus\r\n",
        "print (\"Hasil Perdiksi:\", predicted)"
      ],
      "execution_count": 23,
      "outputs": [
        {
          "output_type": "stream",
          "text": [
            "Hasil Perdiksi: ['No']\n"
          ],
          "name": "stdout"
        }
      ]
    }
  ]
}