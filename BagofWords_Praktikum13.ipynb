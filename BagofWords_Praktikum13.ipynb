{
  "nbformat": 4,
  "nbformat_minor": 0,
  "metadata": {
    "colab": {
      "name": "BagofWords_Praktikum13.ipynb",
      "provenance": [],
      "mount_file_id": "15NiSSlsb4JcTZ6uTzAfA6nbMz0sqt5Lr",
      "authorship_tag": "ABX9TyPAFfiRFAEgKe+QuJa4/K3m",
      "include_colab_link": true
    },
    "kernelspec": {
      "name": "python3",
      "display_name": "Python 3"
    }
  },
  "cells": [
    {
      "cell_type": "markdown",
      "metadata": {
        "id": "view-in-github",
        "colab_type": "text"
      },
      "source": [
        "<a href=\"https://colab.research.google.com/github/HerniHartati01/Machine_Learning/blob/main/BagofWords_Praktikum13.ipynb\" target=\"_parent\"><img src=\"https://colab.research.google.com/assets/colab-badge.svg\" alt=\"Open In Colab\"/></a>"
      ]
    },
    {
      "cell_type": "code",
      "metadata": {
        "colab": {
          "base_uri": "https://localhost:8080/",
          "height": 297
        },
        "id": "QY4YQHyW9Fo-",
        "outputId": "52df3668-c805-4751-830d-a83bfdae3fb1"
      },
      "source": [
        "#Diketahuikumpulankalimat(stat) dan kelasdarikalimattsbdalam2 kelompokyaitustmt(statement) dan question\r\n",
        "#Jika diberikan kalimat ‘what is the price of the book’ apakah termasuk kelas question or not.\r\n",
        "\r\n",
        "import pandas as pd\r\n",
        "columns = ['sent', 'class']\r\n",
        "rows = []\r\n",
        "rows = [['This is my book', 'stmt'],\r\n",
        "        ['They are novels', 'stmt'],\r\n",
        "        ['have you read this book', 'question'],\r\n",
        "        ['who is the author', 'question'],\r\n",
        "        ['what are the characters', 'question'],\r\n",
        "        ['This is how I bought the book', 'stmt'],\r\n",
        "        ['I like fictions', 'stmt'],\r\n",
        "        ['what is your favorite book', 'question']]\r\n",
        "\r\n",
        "training_data = pd.DataFrame(rows, columns=columns)\r\n",
        "training_data"
      ],
      "execution_count": 19,
      "outputs": [
        {
          "output_type": "execute_result",
          "data": {
            "text/html": [
              "<div>\n",
              "<style scoped>\n",
              "    .dataframe tbody tr th:only-of-type {\n",
              "        vertical-align: middle;\n",
              "    }\n",
              "\n",
              "    .dataframe tbody tr th {\n",
              "        vertical-align: top;\n",
              "    }\n",
              "\n",
              "    .dataframe thead th {\n",
              "        text-align: right;\n",
              "    }\n",
              "</style>\n",
              "<table border=\"1\" class=\"dataframe\">\n",
              "  <thead>\n",
              "    <tr style=\"text-align: right;\">\n",
              "      <th></th>\n",
              "      <th>sent</th>\n",
              "      <th>class</th>\n",
              "    </tr>\n",
              "  </thead>\n",
              "  <tbody>\n",
              "    <tr>\n",
              "      <th>0</th>\n",
              "      <td>This is my book</td>\n",
              "      <td>stmt</td>\n",
              "    </tr>\n",
              "    <tr>\n",
              "      <th>1</th>\n",
              "      <td>They are novels</td>\n",
              "      <td>stmt</td>\n",
              "    </tr>\n",
              "    <tr>\n",
              "      <th>2</th>\n",
              "      <td>have you read this book</td>\n",
              "      <td>question</td>\n",
              "    </tr>\n",
              "    <tr>\n",
              "      <th>3</th>\n",
              "      <td>who is the author</td>\n",
              "      <td>question</td>\n",
              "    </tr>\n",
              "    <tr>\n",
              "      <th>4</th>\n",
              "      <td>what are the characters</td>\n",
              "      <td>question</td>\n",
              "    </tr>\n",
              "    <tr>\n",
              "      <th>5</th>\n",
              "      <td>This is how I bought the book</td>\n",
              "      <td>stmt</td>\n",
              "    </tr>\n",
              "    <tr>\n",
              "      <th>6</th>\n",
              "      <td>I like fictions</td>\n",
              "      <td>stmt</td>\n",
              "    </tr>\n",
              "    <tr>\n",
              "      <th>7</th>\n",
              "      <td>what is your favorite book</td>\n",
              "      <td>question</td>\n",
              "    </tr>\n",
              "  </tbody>\n",
              "</table>\n",
              "</div>"
            ],
            "text/plain": [
              "                            sent     class\n",
              "0                This is my book      stmt\n",
              "1                They are novels      stmt\n",
              "2        have you read this book  question\n",
              "3              who is the author  question\n",
              "4        what are the characters  question\n",
              "5  This is how I bought the book      stmt\n",
              "6                I like fictions      stmt\n",
              "7     what is your favorite book  question"
            ]
          },
          "metadata": {
            "tags": []
          },
          "execution_count": 19
        }
      ]
    },
    {
      "cell_type": "code",
      "metadata": {
        "colab": {
          "base_uri": "https://localhost:8080/"
        },
        "id": "urVmtmu29mfX",
        "outputId": "90a67c31-4848-4c13-e9c9-6bc219cd9857"
      },
      "source": [
        "from sklearn.feature_extraction.text import CountVectorizer\r\n",
        "stmt_docs = [row['sent'] for index,row in training_data.iterrows() if row['class'] == 'stmt']\r\n",
        "stmt_docs"
      ],
      "execution_count": 3,
      "outputs": [
        {
          "output_type": "execute_result",
          "data": {
            "text/plain": [
              "['This is my book',\n",
              " 'They are novels',\n",
              " 'This is how I bought the book',\n",
              " 'I like fictions']"
            ]
          },
          "metadata": {
            "tags": []
          },
          "execution_count": 3
        }
      ]
    },
    {
      "cell_type": "code",
      "metadata": {
        "colab": {
          "base_uri": "https://localhost:8080/",
          "height": 173
        },
        "id": "7BAiO5kV9r1m",
        "outputId": "90867b30-77f2-40c3-8d6a-71d3250a86c2"
      },
      "source": [
        "# What is the price of the book\r\n",
        "vec_s = CountVectorizer()\r\n",
        "X_s = vec_s.fit_transform(stmt_docs)\r\n",
        "\r\n",
        "tdm_s = pd.DataFrame(X_s.toarray(), columns=vec_s.get_feature_names())\r\n",
        "tdm_s"
      ],
      "execution_count": 4,
      "outputs": [
        {
          "output_type": "execute_result",
          "data": {
            "text/html": [
              "<div>\n",
              "<style scoped>\n",
              "    .dataframe tbody tr th:only-of-type {\n",
              "        vertical-align: middle;\n",
              "    }\n",
              "\n",
              "    .dataframe tbody tr th {\n",
              "        vertical-align: top;\n",
              "    }\n",
              "\n",
              "    .dataframe thead th {\n",
              "        text-align: right;\n",
              "    }\n",
              "</style>\n",
              "<table border=\"1\" class=\"dataframe\">\n",
              "  <thead>\n",
              "    <tr style=\"text-align: right;\">\n",
              "      <th></th>\n",
              "      <th>are</th>\n",
              "      <th>book</th>\n",
              "      <th>bought</th>\n",
              "      <th>fictions</th>\n",
              "      <th>how</th>\n",
              "      <th>is</th>\n",
              "      <th>like</th>\n",
              "      <th>my</th>\n",
              "      <th>novels</th>\n",
              "      <th>the</th>\n",
              "      <th>they</th>\n",
              "      <th>this</th>\n",
              "    </tr>\n",
              "  </thead>\n",
              "  <tbody>\n",
              "    <tr>\n",
              "      <th>0</th>\n",
              "      <td>0</td>\n",
              "      <td>1</td>\n",
              "      <td>0</td>\n",
              "      <td>0</td>\n",
              "      <td>0</td>\n",
              "      <td>1</td>\n",
              "      <td>0</td>\n",
              "      <td>1</td>\n",
              "      <td>0</td>\n",
              "      <td>0</td>\n",
              "      <td>0</td>\n",
              "      <td>1</td>\n",
              "    </tr>\n",
              "    <tr>\n",
              "      <th>1</th>\n",
              "      <td>1</td>\n",
              "      <td>0</td>\n",
              "      <td>0</td>\n",
              "      <td>0</td>\n",
              "      <td>0</td>\n",
              "      <td>0</td>\n",
              "      <td>0</td>\n",
              "      <td>0</td>\n",
              "      <td>1</td>\n",
              "      <td>0</td>\n",
              "      <td>1</td>\n",
              "      <td>0</td>\n",
              "    </tr>\n",
              "    <tr>\n",
              "      <th>2</th>\n",
              "      <td>0</td>\n",
              "      <td>1</td>\n",
              "      <td>1</td>\n",
              "      <td>0</td>\n",
              "      <td>1</td>\n",
              "      <td>1</td>\n",
              "      <td>0</td>\n",
              "      <td>0</td>\n",
              "      <td>0</td>\n",
              "      <td>1</td>\n",
              "      <td>0</td>\n",
              "      <td>1</td>\n",
              "    </tr>\n",
              "    <tr>\n",
              "      <th>3</th>\n",
              "      <td>0</td>\n",
              "      <td>0</td>\n",
              "      <td>0</td>\n",
              "      <td>1</td>\n",
              "      <td>0</td>\n",
              "      <td>0</td>\n",
              "      <td>1</td>\n",
              "      <td>0</td>\n",
              "      <td>0</td>\n",
              "      <td>0</td>\n",
              "      <td>0</td>\n",
              "      <td>0</td>\n",
              "    </tr>\n",
              "  </tbody>\n",
              "</table>\n",
              "</div>"
            ],
            "text/plain": [
              "   are  book  bought  fictions  how  is  like  my  novels  the  they  this\n",
              "0    0     1       0         0    0   1     0   1       0    0     0     1\n",
              "1    1     0       0         0    0   0     0   0       1    0     1     0\n",
              "2    0     1       1         0    1   1     0   0       0    1     0     1\n",
              "3    0     0       0         1    0   0     1   0       0    0     0     0"
            ]
          },
          "metadata": {
            "tags": []
          },
          "execution_count": 4
        }
      ]
    },
    {
      "cell_type": "code",
      "metadata": {
        "colab": {
          "base_uri": "https://localhost:8080/",
          "height": 173
        },
        "id": "V-j_TFyt-JgR",
        "outputId": "c8822127-af59-430c-9846-e4d99b0e3caa"
      },
      "source": [
        "q_docs = [row['sent'] for index,row in training_data.iterrows() if row['class'] == 'question']\r\n",
        "vec_q = CountVectorizer()\r\n",
        "X_q = vec_q.fit_transform(q_docs)\r\n",
        "tdm_q = pd.DataFrame(X_q.toarray(), columns=vec_q.get_feature_names())\r\n",
        "tdm_q\r\n"
      ],
      "execution_count": 5,
      "outputs": [
        {
          "output_type": "execute_result",
          "data": {
            "text/html": [
              "<div>\n",
              "<style scoped>\n",
              "    .dataframe tbody tr th:only-of-type {\n",
              "        vertical-align: middle;\n",
              "    }\n",
              "\n",
              "    .dataframe tbody tr th {\n",
              "        vertical-align: top;\n",
              "    }\n",
              "\n",
              "    .dataframe thead th {\n",
              "        text-align: right;\n",
              "    }\n",
              "</style>\n",
              "<table border=\"1\" class=\"dataframe\">\n",
              "  <thead>\n",
              "    <tr style=\"text-align: right;\">\n",
              "      <th></th>\n",
              "      <th>are</th>\n",
              "      <th>author</th>\n",
              "      <th>book</th>\n",
              "      <th>characters</th>\n",
              "      <th>favorite</th>\n",
              "      <th>have</th>\n",
              "      <th>is</th>\n",
              "      <th>read</th>\n",
              "      <th>the</th>\n",
              "      <th>this</th>\n",
              "      <th>what</th>\n",
              "      <th>who</th>\n",
              "      <th>you</th>\n",
              "      <th>your</th>\n",
              "    </tr>\n",
              "  </thead>\n",
              "  <tbody>\n",
              "    <tr>\n",
              "      <th>0</th>\n",
              "      <td>0</td>\n",
              "      <td>0</td>\n",
              "      <td>1</td>\n",
              "      <td>0</td>\n",
              "      <td>0</td>\n",
              "      <td>1</td>\n",
              "      <td>0</td>\n",
              "      <td>1</td>\n",
              "      <td>0</td>\n",
              "      <td>1</td>\n",
              "      <td>0</td>\n",
              "      <td>0</td>\n",
              "      <td>1</td>\n",
              "      <td>0</td>\n",
              "    </tr>\n",
              "    <tr>\n",
              "      <th>1</th>\n",
              "      <td>0</td>\n",
              "      <td>1</td>\n",
              "      <td>0</td>\n",
              "      <td>0</td>\n",
              "      <td>0</td>\n",
              "      <td>0</td>\n",
              "      <td>1</td>\n",
              "      <td>0</td>\n",
              "      <td>1</td>\n",
              "      <td>0</td>\n",
              "      <td>0</td>\n",
              "      <td>1</td>\n",
              "      <td>0</td>\n",
              "      <td>0</td>\n",
              "    </tr>\n",
              "    <tr>\n",
              "      <th>2</th>\n",
              "      <td>1</td>\n",
              "      <td>0</td>\n",
              "      <td>0</td>\n",
              "      <td>1</td>\n",
              "      <td>0</td>\n",
              "      <td>0</td>\n",
              "      <td>0</td>\n",
              "      <td>0</td>\n",
              "      <td>1</td>\n",
              "      <td>0</td>\n",
              "      <td>1</td>\n",
              "      <td>0</td>\n",
              "      <td>0</td>\n",
              "      <td>0</td>\n",
              "    </tr>\n",
              "    <tr>\n",
              "      <th>3</th>\n",
              "      <td>0</td>\n",
              "      <td>0</td>\n",
              "      <td>1</td>\n",
              "      <td>0</td>\n",
              "      <td>1</td>\n",
              "      <td>0</td>\n",
              "      <td>1</td>\n",
              "      <td>0</td>\n",
              "      <td>0</td>\n",
              "      <td>0</td>\n",
              "      <td>1</td>\n",
              "      <td>0</td>\n",
              "      <td>0</td>\n",
              "      <td>1</td>\n",
              "    </tr>\n",
              "  </tbody>\n",
              "</table>\n",
              "</div>"
            ],
            "text/plain": [
              "   are  author  book  characters  favorite  ...  this  what  who  you  your\n",
              "0    0       0     1           0         0  ...     1     0    0    1     0\n",
              "1    0       1     0           0         0  ...     0     0    1    0     0\n",
              "2    1       0     0           1         0  ...     0     1    0    0     0\n",
              "3    0       0     1           0         1  ...     0     1    0    0     1\n",
              "\n",
              "[4 rows x 14 columns]"
            ]
          },
          "metadata": {
            "tags": []
          },
          "execution_count": 5
        }
      ]
    },
    {
      "cell_type": "code",
      "metadata": {
        "colab": {
          "base_uri": "https://localhost:8080/"
        },
        "id": "FXO-yT4L-N9e",
        "outputId": "6a29d8d2-df3d-4663-d2a0-c45aad5c3d4c"
      },
      "source": [
        "word_list_s = vec_s.get_feature_names();\r\n",
        "count_list_s = X_s.toarray().sum(axis=0)\r\n",
        "freq_s = dict(zip(word_list_s,count_list_s))\r\n",
        "word_list_s\r\n",
        "freq_s\r\n"
      ],
      "execution_count": 6,
      "outputs": [
        {
          "output_type": "execute_result",
          "data": {
            "text/plain": [
              "{'are': 1,\n",
              " 'book': 2,\n",
              " 'bought': 1,\n",
              " 'fictions': 1,\n",
              " 'how': 1,\n",
              " 'is': 2,\n",
              " 'like': 1,\n",
              " 'my': 1,\n",
              " 'novels': 1,\n",
              " 'the': 1,\n",
              " 'they': 1,\n",
              " 'this': 2}"
            ]
          },
          "metadata": {
            "tags": []
          },
          "execution_count": 6
        }
      ]
    },
    {
      "cell_type": "code",
      "metadata": {
        "colab": {
          "base_uri": "https://localhost:8080/"
        },
        "id": "TaKmc0Gp_pw1",
        "outputId": "26ec26af-be2d-4f24-9c04-7b52bded816a"
      },
      "source": [
        "prob_s = []\r\n",
        "for word,count in zip(word_list_s,count_list_s):\r\n",
        "  prob_s.append(count/len(word_list_s))\r\n",
        "dict(zip(word_list_s,prob_s))\r\n"
      ],
      "execution_count": 7,
      "outputs": [
        {
          "output_type": "execute_result",
          "data": {
            "text/plain": [
              "{'are': 0.08333333333333333,\n",
              " 'book': 0.16666666666666666,\n",
              " 'bought': 0.08333333333333333,\n",
              " 'fictions': 0.08333333333333333,\n",
              " 'how': 0.08333333333333333,\n",
              " 'is': 0.16666666666666666,\n",
              " 'like': 0.08333333333333333,\n",
              " 'my': 0.08333333333333333,\n",
              " 'novels': 0.08333333333333333,\n",
              " 'the': 0.08333333333333333,\n",
              " 'they': 0.08333333333333333,\n",
              " 'this': 0.16666666666666666}"
            ]
          },
          "metadata": {
            "tags": []
          },
          "execution_count": 7
        }
      ]
    },
    {
      "cell_type": "code",
      "metadata": {
        "colab": {
          "base_uri": "https://localhost:8080/"
        },
        "id": "P5uiy1Kw_y0F",
        "outputId": "355247f7-e4a7-48d1-aeec-ee5d7882adad"
      },
      "source": [
        "word_list_q = vec_q.get_feature_names();\r\n",
        "count_list_q = X_q.toarray().sum(axis=0)\r\n",
        "freq_q = dict(zip(word_list_q,count_list_q))\r\n",
        "word_list_q\r\n",
        "freq_q"
      ],
      "execution_count": 8,
      "outputs": [
        {
          "output_type": "execute_result",
          "data": {
            "text/plain": [
              "{'are': 1,\n",
              " 'author': 1,\n",
              " 'book': 2,\n",
              " 'characters': 1,\n",
              " 'favorite': 1,\n",
              " 'have': 1,\n",
              " 'is': 2,\n",
              " 'read': 1,\n",
              " 'the': 2,\n",
              " 'this': 1,\n",
              " 'what': 2,\n",
              " 'who': 1,\n",
              " 'you': 1,\n",
              " 'your': 1}"
            ]
          },
          "metadata": {
            "tags": []
          },
          "execution_count": 8
        }
      ]
    },
    {
      "cell_type": "code",
      "metadata": {
        "colab": {
          "base_uri": "https://localhost:8080/"
        },
        "id": "7gg6HR66AA7w",
        "outputId": "24e4aa7a-d371-447d-984e-f6ead05b8100"
      },
      "source": [
        "prob_q = []\r\n",
        "for word,count in zip(word_list_q,count_list_q):\r\n",
        "  prob_q.append(count/len(word_list_q))\r\n",
        "dict(zip(word_list_q,prob_q))"
      ],
      "execution_count": 9,
      "outputs": [
        {
          "output_type": "execute_result",
          "data": {
            "text/plain": [
              "{'are': 0.07142857142857142,\n",
              " 'author': 0.07142857142857142,\n",
              " 'book': 0.14285714285714285,\n",
              " 'characters': 0.07142857142857142,\n",
              " 'favorite': 0.07142857142857142,\n",
              " 'have': 0.07142857142857142,\n",
              " 'is': 0.14285714285714285,\n",
              " 'read': 0.07142857142857142,\n",
              " 'the': 0.14285714285714285,\n",
              " 'this': 0.07142857142857142,\n",
              " 'what': 0.14285714285714285,\n",
              " 'who': 0.07142857142857142,\n",
              " 'you': 0.07142857142857142,\n",
              " 'your': 0.07142857142857142}"
            ]
          },
          "metadata": {
            "tags": []
          },
          "execution_count": 9
        }
      ]
    },
    {
      "cell_type": "code",
      "metadata": {
        "colab": {
          "base_uri": "https://localhost:8080/"
        },
        "id": "ViqYwaK9AHbk",
        "outputId": "828fa9ac-0c07-4a06-dccc-9406517c06b9"
      },
      "source": [
        "from sklearn.feature_extraction.text import CountVectorizer\r\n",
        "docs = [row['sent'] for index,row in training_data.iterrows()]\r\n",
        "\r\n",
        "vec = CountVectorizer()\r\n",
        "X = vec.fit_transform(docs)\r\n",
        "\r\n",
        "total_features = len(vec.get_feature_names())\r\n",
        "total_features"
      ],
      "execution_count": 10,
      "outputs": [
        {
          "output_type": "execute_result",
          "data": {
            "text/plain": [
              "21"
            ]
          },
          "metadata": {
            "tags": []
          },
          "execution_count": 10
        }
      ]
    },
    {
      "cell_type": "code",
      "metadata": {
        "colab": {
          "base_uri": "https://localhost:8080/"
        },
        "id": "cb-liWZcANa4",
        "outputId": "442c4487-fc54-409d-8795-d96a0476fcd1"
      },
      "source": [
        "total_cnts_features_s = count_list_s.sum(axis=0)\r\n",
        "total_cnts_features_q = count_list_q.sum(axis=0)\r\n",
        "print (total_cnts_features_s)\r\n",
        "print (total_cnts_features_q)"
      ],
      "execution_count": 11,
      "outputs": [
        {
          "output_type": "stream",
          "text": [
            "15\n",
            "18\n"
          ],
          "name": "stdout"
        }
      ]
    },
    {
      "cell_type": "code",
      "metadata": {
        "colab": {
          "base_uri": "https://localhost:8080/"
        },
        "id": "OLxnos6aARjW",
        "outputId": "701d1fbd-28f9-43aa-cd96-0e157fe43511"
      },
      "source": [
        "'''\r\n",
        "NLTK adalah salah satu tool yang sangat populer pada ilmu natural language processing (NLP)\r\n",
        "dengan menggunakan bahasa pemrograman python. natural language toolkit ini sangat mendukung\r\n",
        "proses pengolahan bahasa natural\r\n",
        "seperti classification, tokenization, stemming, tagging, parsing\r\n",
        "'''\r\n",
        "import nltk\r\n",
        "nltk.download('punkt')"
      ],
      "execution_count": 12,
      "outputs": [
        {
          "output_type": "stream",
          "text": [
            "[nltk_data] Downloading package punkt to /root/nltk_data...\n",
            "[nltk_data]   Unzipping tokenizers/punkt.zip.\n"
          ],
          "name": "stdout"
        },
        {
          "output_type": "execute_result",
          "data": {
            "text/plain": [
              "True"
            ]
          },
          "metadata": {
            "tags": []
          },
          "execution_count": 12
        }
      ]
    },
    {
      "cell_type": "code",
      "metadata": {
        "colab": {
          "base_uri": "https://localhost:8080/"
        },
        "id": "TPT7h7HLAZue",
        "outputId": "ff4affff-a3c6-48eb-bc9d-b3c837ee87ba"
      },
      "source": [
        "from nltk.tokenize import word_tokenize\r\n",
        "new_sentence = 'what is the price of the book'\r\n",
        "new_word_list = word_tokenize(new_sentence)\r\n",
        "print(new_word_list)"
      ],
      "execution_count": 13,
      "outputs": [
        {
          "output_type": "stream",
          "text": [
            "['what', 'is', 'the', 'price', 'of', 'the', 'book']\n"
          ],
          "name": "stdout"
        }
      ]
    },
    {
      "cell_type": "code",
      "metadata": {
        "colab": {
          "base_uri": "https://localhost:8080/"
        },
        "id": "GAE8VoIuAfD_",
        "outputId": "d2af8c38-941c-4dd7-8a8b-762cf239286a"
      },
      "source": [
        "prob_s_with_ls = []\r\n",
        "for word in new_word_list:\r\n",
        "  if word in freq_s.keys():\r\n",
        "    count = freq_s[word]\r\n",
        "  else :\r\n",
        "    count = 0\r\n",
        "  prob_s_with_ls.append((count + 1)/(total_cnts_features_s + total_features))\r\n",
        "dict(zip(new_word_list, prob_s_with_ls))\r\n"
      ],
      "execution_count": 14,
      "outputs": [
        {
          "output_type": "execute_result",
          "data": {
            "text/plain": [
              "{'book': 0.08333333333333333,\n",
              " 'is': 0.08333333333333333,\n",
              " 'of': 0.027777777777777776,\n",
              " 'price': 0.027777777777777776,\n",
              " 'the': 0.05555555555555555,\n",
              " 'what': 0.027777777777777776}"
            ]
          },
          "metadata": {
            "tags": []
          },
          "execution_count": 14
        }
      ]
    },
    {
      "cell_type": "code",
      "metadata": {
        "colab": {
          "base_uri": "https://localhost:8080/"
        },
        "id": "lfxKNqbSAkNw",
        "outputId": "eb72d154-d24e-4d85-c35a-26d17d8ed1c9"
      },
      "source": [
        "prob_q_with_ls = []\r\n",
        "for word in new_word_list:\r\n",
        "  if word in freq_q.keys():\r\n",
        "    count = freq_q[word]\r\n",
        "  else :\r\n",
        "    count = 0\r\n",
        "  prob_q_with_ls.append((count + 1)/(total_cnts_features_q + total_features))\r\n",
        "dict(zip(new_word_list, prob_q_with_ls))\r\n"
      ],
      "execution_count": 15,
      "outputs": [
        {
          "output_type": "execute_result",
          "data": {
            "text/plain": [
              "{'book': 0.07692307692307693,\n",
              " 'is': 0.07692307692307693,\n",
              " 'of': 0.02564102564102564,\n",
              " 'price': 0.02564102564102564,\n",
              " 'the': 0.07692307692307693,\n",
              " 'what': 0.07692307692307693}"
            ]
          },
          "metadata": {
            "tags": []
          },
          "execution_count": 15
        }
      ]
    },
    {
      "cell_type": "code",
      "metadata": {
        "colab": {
          "base_uri": "https://localhost:8080/"
        },
        "id": "lmNwZEp4ArQS",
        "outputId": "455e82ef-3a8a-4900-d37e-f51d3e514b29"
      },
      "source": [
        "i = 0\r\n",
        "prob_s_=1\r\n",
        "for i in range(len(prob_s_with_ls)):\r\n",
        "  prob_s_=prob_s_*prob_s_with_ls[i]\r\n",
        "print (prob_s_)\r\n",
        "print (\"Nilai akhir statment \",prob_s_*0.5)\r\n"
      ],
      "execution_count": 16,
      "outputs": [
        {
          "output_type": "stream",
          "text": [
            "4.5939365799778324e-10\n",
            "Nilai akhir statment  2.2969682899889162e-10\n"
          ],
          "name": "stdout"
        }
      ]
    },
    {
      "cell_type": "code",
      "metadata": {
        "colab": {
          "base_uri": "https://localhost:8080/"
        },
        "id": "MSY-OIgkAxSm",
        "outputId": "2b9d313f-5430-4544-ba12-fdca347d1783"
      },
      "source": [
        "i = 0\r\n",
        "prob_q_=1\r\n",
        "for i in range(len(prob_q_with_ls)):\r\n",
        "  prob_q_=prob_q_*prob_q_with_ls[i]\r\n",
        "print (prob_q_)\r\n",
        "print (\"Nilai akhir statment \",prob_q_*0.5)\r\n",
        "\r\n",
        "#Kesimpulan akhir adalah kalimat QUESTION"
      ],
      "execution_count": 18,
      "outputs": [
        {
          "output_type": "stream",
          "text": [
            "1.7707368464359263e-09\n",
            "Nilai akhir statment  8.853684232179632e-10\n"
          ],
          "name": "stdout"
        }
      ]
    }
  ]
}